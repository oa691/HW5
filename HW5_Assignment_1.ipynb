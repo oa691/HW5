{
 "cells": [
  {
   "cell_type": "code",
   "execution_count": 1,
   "metadata": {
    "collapsed": false
   },
   "outputs": [
    {
     "name": "stdout",
     "output_type": "stream",
     "text": [
      "Populating the interactive namespace from numpy and matplotlib\n",
      "  % Total    % Received % Xferd  Average Speed   Time    Time     Time  Current\n",
      "                                 Dload  Upload   Total   Spent    Left  Speed\n",
      "100 4708k  100 4708k    0     0  10.9M      0 --:--:-- --:--:-- --:--:-- 17.5M\n"
     ]
    },
    {
     "data": {
      "text/html": [
       "<div>\n",
       "<table border=\"1\" class=\"dataframe\">\n",
       "  <thead>\n",
       "    <tr style=\"text-align: right;\">\n",
       "      <th></th>\n",
       "      <th>tripduration</th>\n",
       "      <th>starttime</th>\n",
       "      <th>stoptime</th>\n",
       "      <th>start station id</th>\n",
       "      <th>start station name</th>\n",
       "      <th>start station latitude</th>\n",
       "      <th>start station longitude</th>\n",
       "      <th>end station id</th>\n",
       "      <th>end station name</th>\n",
       "      <th>end station latitude</th>\n",
       "      <th>end station longitude</th>\n",
       "      <th>bikeid</th>\n",
       "      <th>usertype</th>\n",
       "      <th>birth year</th>\n",
       "      <th>gender</th>\n",
       "      <th>date</th>\n",
       "    </tr>\n",
       "  </thead>\n",
       "  <tbody>\n",
       "    <tr>\n",
       "      <th>0</th>\n",
       "      <td>801</td>\n",
       "      <td>2/1/2015 0:00</td>\n",
       "      <td>2/1/2015 0:14</td>\n",
       "      <td>521</td>\n",
       "      <td>8 Ave &amp; W 31 St</td>\n",
       "      <td>40.750450</td>\n",
       "      <td>-73.994811</td>\n",
       "      <td>423</td>\n",
       "      <td>W 54 St &amp; 9 Ave</td>\n",
       "      <td>40.765849</td>\n",
       "      <td>-73.986905</td>\n",
       "      <td>17131</td>\n",
       "      <td>Subscriber</td>\n",
       "      <td>1978.0</td>\n",
       "      <td>2</td>\n",
       "      <td>2015-02-01 00:00:00</td>\n",
       "    </tr>\n",
       "    <tr>\n",
       "      <th>1</th>\n",
       "      <td>379</td>\n",
       "      <td>2/1/2015 0:00</td>\n",
       "      <td>2/1/2015 0:07</td>\n",
       "      <td>497</td>\n",
       "      <td>E 17 St &amp; Broadway</td>\n",
       "      <td>40.737050</td>\n",
       "      <td>-73.990093</td>\n",
       "      <td>504</td>\n",
       "      <td>1 Ave &amp; E 15 St</td>\n",
       "      <td>40.732219</td>\n",
       "      <td>-73.981656</td>\n",
       "      <td>21289</td>\n",
       "      <td>Subscriber</td>\n",
       "      <td>1993.0</td>\n",
       "      <td>1</td>\n",
       "      <td>2015-02-01 00:00:00</td>\n",
       "    </tr>\n",
       "    <tr>\n",
       "      <th>2</th>\n",
       "      <td>2474</td>\n",
       "      <td>2/1/2015 0:01</td>\n",
       "      <td>2/1/2015 0:42</td>\n",
       "      <td>281</td>\n",
       "      <td>Grand Army Plaza &amp; Central Park S</td>\n",
       "      <td>40.764397</td>\n",
       "      <td>-73.973715</td>\n",
       "      <td>127</td>\n",
       "      <td>Barrow St &amp; Hudson St</td>\n",
       "      <td>40.731724</td>\n",
       "      <td>-74.006744</td>\n",
       "      <td>18903</td>\n",
       "      <td>Subscriber</td>\n",
       "      <td>1969.0</td>\n",
       "      <td>2</td>\n",
       "      <td>2015-02-01 00:01:00</td>\n",
       "    </tr>\n",
       "    <tr>\n",
       "      <th>3</th>\n",
       "      <td>818</td>\n",
       "      <td>2/1/2015 0:01</td>\n",
       "      <td>2/1/2015 0:15</td>\n",
       "      <td>2004</td>\n",
       "      <td>6 Ave &amp; Broome St</td>\n",
       "      <td>40.724399</td>\n",
       "      <td>-74.004704</td>\n",
       "      <td>505</td>\n",
       "      <td>6 Ave &amp; W 33 St</td>\n",
       "      <td>40.749013</td>\n",
       "      <td>-73.988484</td>\n",
       "      <td>21044</td>\n",
       "      <td>Subscriber</td>\n",
       "      <td>1985.0</td>\n",
       "      <td>2</td>\n",
       "      <td>2015-02-01 00:01:00</td>\n",
       "    </tr>\n",
       "    <tr>\n",
       "      <th>4</th>\n",
       "      <td>544</td>\n",
       "      <td>2/1/2015 0:01</td>\n",
       "      <td>2/1/2015 0:10</td>\n",
       "      <td>323</td>\n",
       "      <td>Lawrence St &amp; Willoughby St</td>\n",
       "      <td>40.692362</td>\n",
       "      <td>-73.986317</td>\n",
       "      <td>83</td>\n",
       "      <td>Atlantic Ave &amp; Fort Greene Pl</td>\n",
       "      <td>40.683826</td>\n",
       "      <td>-73.976323</td>\n",
       "      <td>19868</td>\n",
       "      <td>Subscriber</td>\n",
       "      <td>1957.0</td>\n",
       "      <td>1</td>\n",
       "      <td>2015-02-01 00:01:00</td>\n",
       "    </tr>\n",
       "  </tbody>\n",
       "</table>\n",
       "</div>"
      ],
      "text/plain": [
       "   tripduration      starttime       stoptime  start station id  \\\n",
       "0           801  2/1/2015 0:00  2/1/2015 0:14               521   \n",
       "1           379  2/1/2015 0:00  2/1/2015 0:07               497   \n",
       "2          2474  2/1/2015 0:01  2/1/2015 0:42               281   \n",
       "3           818  2/1/2015 0:01  2/1/2015 0:15              2004   \n",
       "4           544  2/1/2015 0:01  2/1/2015 0:10               323   \n",
       "\n",
       "                  start station name  start station latitude  \\\n",
       "0                    8 Ave & W 31 St               40.750450   \n",
       "1                 E 17 St & Broadway               40.737050   \n",
       "2  Grand Army Plaza & Central Park S               40.764397   \n",
       "3                  6 Ave & Broome St               40.724399   \n",
       "4        Lawrence St & Willoughby St               40.692362   \n",
       "\n",
       "   start station longitude  end station id               end station name  \\\n",
       "0               -73.994811             423                W 54 St & 9 Ave   \n",
       "1               -73.990093             504                1 Ave & E 15 St   \n",
       "2               -73.973715             127          Barrow St & Hudson St   \n",
       "3               -74.004704             505                6 Ave & W 33 St   \n",
       "4               -73.986317              83  Atlantic Ave & Fort Greene Pl   \n",
       "\n",
       "   end station latitude  end station longitude  bikeid    usertype  \\\n",
       "0             40.765849             -73.986905   17131  Subscriber   \n",
       "1             40.732219             -73.981656   21289  Subscriber   \n",
       "2             40.731724             -74.006744   18903  Subscriber   \n",
       "3             40.749013             -73.988484   21044  Subscriber   \n",
       "4             40.683826             -73.976323   19868  Subscriber   \n",
       "\n",
       "   birth year  gender                date  \n",
       "0      1978.0       2 2015-02-01 00:00:00  \n",
       "1      1993.0       1 2015-02-01 00:00:00  \n",
       "2      1969.0       2 2015-02-01 00:01:00  \n",
       "3      1985.0       2 2015-02-01 00:01:00  \n",
       "4      1957.0       1 2015-02-01 00:01:00  "
      ]
     },
     "execution_count": 1,
     "metadata": {},
     "output_type": "execute_result"
    }
   ],
   "source": [
    "#Assignment 5: perform tests\n",
    "#K-S test , KL AD tests on Gaussian and Binomial\n",
    "#Goal is to play with parameters and observe the changes in the distributions of all ages\n",
    "#Combines age of women and men bikers for February\n",
    "#Idea: In the same age interval men ride bikes more than women\n",
    "#Hypothesis: Men between ages 30 to 35 ride more bikes than women in the same ages\n",
    "#Null Hypothesis (Ho): The number of men who ride citybikes between ages 30-35 are same or lower in February than women of same ages \n",
    "#Alternative Hypthesis (Ha): The number of men who ride citybikes between 30-35 are significanlt higher then women of same age for February month\n",
    "#alpha = 0.05\n",
    "\n",
    "#Plot samples with Normal and binomial distributions. epmhasis on center\n",
    "    #KS: Test if a sample comes from a specific dist\n",
    "    #Ho: the data follow a specified dist \n",
    "    #Ha: the data do not follow the specified dist\n",
    "    #aplha: if statistic value is greater than test's critical value reject null hypothesis\n",
    "\n",
    "    #AD: Goodness of fit test to check whether data came from a population with a pecified distribution. Emphasis is on tails\n",
    "    #Ho: the data follow a specified dist \n",
    "    #Ha: the data do not follow the specified dist\n",
    "    #aplha: if test statistic value is greater than test's critical reject nul hypothesis\n",
    "    \n",
    "#Ho - H1 >= 0\n",
    "#Ho - H1 < 0 \n",
    "\n",
    "#Sources: http://www.itl.nist.gov/div898/handbook/eda/section3/eda35g.htm\n",
    "        #http://www.itl.nist.gov/div898/handbook/eda/section3/eda35e.htm\n",
    "        #http://pandas.pydata.org/pandas-docs/stable/merging.html\n",
    "        #http://sparky.rice.edu/astr360/kstest.pdf (for KS critical value)\n",
    "        \n",
    "from __future__  import print_function, division\n",
    "import pylab as pl\n",
    "import pandas as pd\n",
    "import numpy as np\n",
    "import os\n",
    "import zipfile\n",
    "import scipy.stats\n",
    "\n",
    "%pylab inline\n",
    "\n",
    "datestring = '201502'\n",
    "!curl -O \"https://s3.amazonaws.com/tripdata/{datestring}-citibike-tripdata.zip\"\n",
    "\n",
    "zf = zipfile.ZipFile(datestring+'-citibike-tripdata.zip')\n",
    "df = pd.read_csv(zf.open(datestring+'-citibike-tripdata.csv'))\n",
    "\n",
    "df['date'] = pd.to_datetime(df['starttime'])\n",
    "df.head()"
   ]
  },
  {
   "cell_type": "code",
   "execution_count": 84,
   "metadata": {
    "collapsed": false
   },
   "outputs": [
    {
     "data": {
      "text/plain": [
       "Index([u'tripduration', u'starttime', u'stoptime', u'start station id',\n",
       "       u'start station name', u'start station latitude',\n",
       "       u'start station longitude', u'end station id', u'end station name',\n",
       "       u'end station latitude', u'end station longitude', u'bikeid',\n",
       "       u'usertype', u'birth year', u'gender', u'date'],\n",
       "      dtype='object')"
      ]
     },
     "execution_count": 84,
     "metadata": {},
     "output_type": "execute_result"
    }
   ],
   "source": [
    "df.columns"
   ]
  },
  {
   "cell_type": "code",
   "execution_count": 2,
   "metadata": {
    "collapsed": false
   },
   "outputs": [],
   "source": [
    "df.drop(['start station id', 'start station name', 'start station latitude', \n",
    "         'start station longitude', 'end station id', 'end station name','end station latitude', 'end station longitude', \n",
    "         'bikeid',], axis=1, inplace=True)"
   ]
  },
  {
   "cell_type": "code",
   "execution_count": 3,
   "metadata": {
    "collapsed": false
   },
   "outputs": [],
   "source": [
    "#df is the dataframe where the content of the csv file is stored\n",
    "df['ageM'] = 2015 - df['birth year'][(df['usertype'] == 'Subscriber') & (df['gender'] == 1)]\n",
    "df['ageF'] = 2015 - df['birth year'][(df['usertype'] == 'Subscriber') & (df['gender'] == 2)]"
   ]
  },
  {
   "cell_type": "code",
   "execution_count": 4,
   "metadata": {
    "collapsed": false
   },
   "outputs": [
    {
     "data": {
      "text/html": [
       "<div>\n",
       "<table border=\"1\" class=\"dataframe\">\n",
       "  <thead>\n",
       "    <tr style=\"text-align: right;\">\n",
       "      <th></th>\n",
       "      <th>tripduration</th>\n",
       "      <th>starttime</th>\n",
       "      <th>stoptime</th>\n",
       "      <th>usertype</th>\n",
       "      <th>birth year</th>\n",
       "      <th>gender</th>\n",
       "      <th>date</th>\n",
       "      <th>ageM</th>\n",
       "      <th>ageF</th>\n",
       "    </tr>\n",
       "  </thead>\n",
       "  <tbody>\n",
       "    <tr>\n",
       "      <th>0</th>\n",
       "      <td>801</td>\n",
       "      <td>2/1/2015 0:00</td>\n",
       "      <td>2/1/2015 0:14</td>\n",
       "      <td>Subscriber</td>\n",
       "      <td>1978.0</td>\n",
       "      <td>2</td>\n",
       "      <td>2015-02-01 00:00:00</td>\n",
       "      <td>NaN</td>\n",
       "      <td>37.0</td>\n",
       "    </tr>\n",
       "    <tr>\n",
       "      <th>1</th>\n",
       "      <td>379</td>\n",
       "      <td>2/1/2015 0:00</td>\n",
       "      <td>2/1/2015 0:07</td>\n",
       "      <td>Subscriber</td>\n",
       "      <td>1993.0</td>\n",
       "      <td>1</td>\n",
       "      <td>2015-02-01 00:00:00</td>\n",
       "      <td>22.0</td>\n",
       "      <td>NaN</td>\n",
       "    </tr>\n",
       "    <tr>\n",
       "      <th>2</th>\n",
       "      <td>2474</td>\n",
       "      <td>2/1/2015 0:01</td>\n",
       "      <td>2/1/2015 0:42</td>\n",
       "      <td>Subscriber</td>\n",
       "      <td>1969.0</td>\n",
       "      <td>2</td>\n",
       "      <td>2015-02-01 00:01:00</td>\n",
       "      <td>NaN</td>\n",
       "      <td>46.0</td>\n",
       "    </tr>\n",
       "    <tr>\n",
       "      <th>3</th>\n",
       "      <td>818</td>\n",
       "      <td>2/1/2015 0:01</td>\n",
       "      <td>2/1/2015 0:15</td>\n",
       "      <td>Subscriber</td>\n",
       "      <td>1985.0</td>\n",
       "      <td>2</td>\n",
       "      <td>2015-02-01 00:01:00</td>\n",
       "      <td>NaN</td>\n",
       "      <td>30.0</td>\n",
       "    </tr>\n",
       "    <tr>\n",
       "      <th>4</th>\n",
       "      <td>544</td>\n",
       "      <td>2/1/2015 0:01</td>\n",
       "      <td>2/1/2015 0:10</td>\n",
       "      <td>Subscriber</td>\n",
       "      <td>1957.0</td>\n",
       "      <td>1</td>\n",
       "      <td>2015-02-01 00:01:00</td>\n",
       "      <td>58.0</td>\n",
       "      <td>NaN</td>\n",
       "    </tr>\n",
       "  </tbody>\n",
       "</table>\n",
       "</div>"
      ],
      "text/plain": [
       "   tripduration      starttime       stoptime    usertype  birth year  gender  \\\n",
       "0           801  2/1/2015 0:00  2/1/2015 0:14  Subscriber      1978.0       2   \n",
       "1           379  2/1/2015 0:00  2/1/2015 0:07  Subscriber      1993.0       1   \n",
       "2          2474  2/1/2015 0:01  2/1/2015 0:42  Subscriber      1969.0       2   \n",
       "3           818  2/1/2015 0:01  2/1/2015 0:15  Subscriber      1985.0       2   \n",
       "4           544  2/1/2015 0:01  2/1/2015 0:10  Subscriber      1957.0       1   \n",
       "\n",
       "                 date  ageM  ageF  \n",
       "0 2015-02-01 00:00:00   NaN  37.0  \n",
       "1 2015-02-01 00:00:00  22.0   NaN  \n",
       "2 2015-02-01 00:01:00   NaN  46.0  \n",
       "3 2015-02-01 00:01:00   NaN  30.0  \n",
       "4 2015-02-01 00:01:00  58.0   NaN  "
      ]
     },
     "execution_count": 4,
     "metadata": {},
     "output_type": "execute_result"
    }
   ],
   "source": [
    "df.head()"
   ]
  },
  {
   "cell_type": "code",
   "execution_count": 7,
   "metadata": {
    "collapsed": false,
    "scrolled": true
   },
   "outputs": [
    {
     "data": {
      "text/html": [
       "<div>\n",
       "<table border=\"1\" class=\"dataframe\">\n",
       "  <thead>\n",
       "    <tr style=\"text-align: right;\">\n",
       "      <th></th>\n",
       "      <th>tripduration</th>\n",
       "      <th>starttime</th>\n",
       "      <th>stoptime</th>\n",
       "      <th>usertype</th>\n",
       "      <th>birth year</th>\n",
       "      <th>gender</th>\n",
       "      <th>date</th>\n",
       "      <th>ageM</th>\n",
       "      <th>ageF</th>\n",
       "    </tr>\n",
       "  </thead>\n",
       "  <tbody>\n",
       "    <tr>\n",
       "      <th>0</th>\n",
       "      <td>801</td>\n",
       "      <td>2/1/2015 0:00</td>\n",
       "      <td>2/1/2015 0:14</td>\n",
       "      <td>Subscriber</td>\n",
       "      <td>1978.0</td>\n",
       "      <td>2</td>\n",
       "      <td>2015-02-01 00:00:00</td>\n",
       "      <td>NaN</td>\n",
       "      <td>37.0</td>\n",
       "    </tr>\n",
       "    <tr>\n",
       "      <th>1</th>\n",
       "      <td>379</td>\n",
       "      <td>2/1/2015 0:00</td>\n",
       "      <td>2/1/2015 0:07</td>\n",
       "      <td>Subscriber</td>\n",
       "      <td>1993.0</td>\n",
       "      <td>1</td>\n",
       "      <td>2015-02-01 00:00:00</td>\n",
       "      <td>22.0</td>\n",
       "      <td>NaN</td>\n",
       "    </tr>\n",
       "    <tr>\n",
       "      <th>2</th>\n",
       "      <td>2474</td>\n",
       "      <td>2/1/2015 0:01</td>\n",
       "      <td>2/1/2015 0:42</td>\n",
       "      <td>Subscriber</td>\n",
       "      <td>1969.0</td>\n",
       "      <td>2</td>\n",
       "      <td>2015-02-01 00:01:00</td>\n",
       "      <td>NaN</td>\n",
       "      <td>46.0</td>\n",
       "    </tr>\n",
       "    <tr>\n",
       "      <th>3</th>\n",
       "      <td>818</td>\n",
       "      <td>2/1/2015 0:01</td>\n",
       "      <td>2/1/2015 0:15</td>\n",
       "      <td>Subscriber</td>\n",
       "      <td>1985.0</td>\n",
       "      <td>2</td>\n",
       "      <td>2015-02-01 00:01:00</td>\n",
       "      <td>NaN</td>\n",
       "      <td>30.0</td>\n",
       "    </tr>\n",
       "    <tr>\n",
       "      <th>4</th>\n",
       "      <td>544</td>\n",
       "      <td>2/1/2015 0:01</td>\n",
       "      <td>2/1/2015 0:10</td>\n",
       "      <td>Subscriber</td>\n",
       "      <td>1957.0</td>\n",
       "      <td>1</td>\n",
       "      <td>2015-02-01 00:01:00</td>\n",
       "      <td>58.0</td>\n",
       "      <td>NaN</td>\n",
       "    </tr>\n",
       "  </tbody>\n",
       "</table>\n",
       "</div>"
      ],
      "text/plain": [
       "   tripduration      starttime       stoptime    usertype  birth year  gender  \\\n",
       "0           801  2/1/2015 0:00  2/1/2015 0:14  Subscriber      1978.0       2   \n",
       "1           379  2/1/2015 0:00  2/1/2015 0:07  Subscriber      1993.0       1   \n",
       "2          2474  2/1/2015 0:01  2/1/2015 0:42  Subscriber      1969.0       2   \n",
       "3           818  2/1/2015 0:01  2/1/2015 0:15  Subscriber      1985.0       2   \n",
       "4           544  2/1/2015 0:01  2/1/2015 0:10  Subscriber      1957.0       1   \n",
       "\n",
       "                 date  ageM  ageF  \n",
       "0 2015-02-01 00:00:00   NaN  37.0  \n",
       "1 2015-02-01 00:00:00  22.0   NaN  \n",
       "2 2015-02-01 00:01:00   NaN  46.0  \n",
       "3 2015-02-01 00:01:00   NaN  30.0  \n",
       "4 2015-02-01 00:01:00  58.0   NaN  "
      ]
     },
     "execution_count": 7,
     "metadata": {},
     "output_type": "execute_result"
    }
   ],
   "source": [
    "#Dropping NaN values.....NaN still appear? \n",
    "df['ageM'].dropna(inplace = True)\n",
    "df['ageF'].dropna(inplace = True)\n",
    "df.head()"
   ]
  },
  {
   "cell_type": "code",
   "execution_count": 5,
   "metadata": {
    "collapsed": false,
    "scrolled": true
   },
   "outputs": [
    {
     "data": {
      "text/plain": [
       "<matplotlib.text.Text at 0x7fd7d3879110>"
      ]
     },
     "execution_count": 5,
     "metadata": {},
     "output_type": "execute_result"
    },
    {
     "data": {
      "image/png": "[encoded data removed]",
      "text/plain": [
       "<matplotlib.figure.Figure at 0x7fd7f07e04d0>"
      ]
     },
     "metadata": {},
     "output_type": "display_data"
    },
    {
     "data": {
      "image/png": "[encoded data removed]",
      "text/plain": [
       "<matplotlib.figure.Figure at 0x7fd7f0811a90>"
      ]
     },
     "metadata": {},
     "output_type": "display_data"
    }
   ],
   "source": [
    "bins = np.arange(10, 99, 5)\n",
    "axM = df.ageM.groupby(pd.cut(df.ageM, bins)).agg([count_nonzero]).plot(kind='bar', legend=False)\n",
    "axM.set_title(\"Male Bike Riders\")\n",
    "axF = df.ageF.groupby(pd.cut(df.ageF, bins)).agg([count_nonzero]).plot(kind='bar', legend=False)\n",
    "axF.set_title(\"Female Bike Riders\")"
   ]
  },
  {
   "cell_type": "code",
   "execution_count": 14,
   "metadata": {
    "collapsed": false
   },
   "outputs": [
    {
     "name": "stdout",
     "output_type": "stream",
     "text": [
      "normal on normal KstestResult(statistic=0.93670932751128022, pvalue=0.0)\n",
      "normal on normal AndersonResult(statistic=3.4706151231678888, critical_values=array([ 0.549,  0.625,  0.75 ,  0.875,  1.041]), significance_level=array([ 15. ,  10. ,   5. ,   2.5,   1. ]))\n",
      "\n",
      "normal on normal KstestResult(statistic=0.96162486805182079, pvalue=0.0)\n",
      "normal on normal AndersonResult(statistic=1.4810553822735386, critical_values=array([ 0.545,  0.621,  0.745,  0.869,  1.034]), significance_level=array([ 15. ,  10. ,   5. ,   2.5,   1. ]))\n",
      "\n"
     ]
    }
   ],
   "source": [
    "#combine_age = [ ]\n",
    "df['ageM'].dropna(inplace = True)\n",
    "df['ageF'].dropna(inplace = True)\n",
    "\n",
    "list1 = df['ageM'].value_counts(ascending=False)\n",
    "#y = list1.reshape(list1.size, 1)\n",
    "list2 = df['ageF'].value_counts(ascending=True)\n",
    "\n",
    "print (\"normal on normal\", scipy.stats.kstest(list1, 'norm'))\n",
    "print (\"normal on normal\", scipy.stats.anderson(list1, dist='norm'))   #d=0.936<1.36 H0 is not rejected\n",
    "print (\"\") \n",
    "\n",
    "print (\"normal on normal\", scipy.stats.kstest(list2, 'norm'))\n",
    "print (\"normal on normal\", scipy.stats.anderson(list2, dist='norm')) \n",
    "print (\"\")\n",
    "\n",
    "#H0: the data is normally distributed\n",
    "#Ha: the data is not normally distributed\n",
    "#aplha 0.05\n",
    "\n",
    "#For men riders: for KS test table cr=1.36. reject H0 if statistic > Cr.  that is 0.936<1.36. H0 is not rejected.\n",
    "#For AD test for aplha 0.05 the Cr=0.75. statistic=3.470 and if (3.470)^2>0.75 H0 is rejected.\n",
    "\n",
    "#For women riders: for KS test table cr=1.36. reject H0 if statistic > Cr.  that is 0.961<1.36. H0 is not rejected.\n",
    "#For AD test for aplha 0.05 the Cr=0.745. statistic=1.481 and if (1.481)^2>0.745 H0 is rejected. H0 is rejected.\n",
    "\n",
    "#Next one is KS AD on Poisson"
   ]
  },
  {
   "cell_type": "code",
   "execution_count": 35,
   "metadata": {
    "collapsed": false
   },
   "outputs": [
    {
     "name": "stdout",
     "output_type": "stream",
     "text": [
      "poisson on normal KstestResult(statistic=0.94591427470411282, pvalue=0.0)\n",
      "poisson on normal AndersonResult(statistic=3.4539923713185914, critical_values=array([ 0.549,  0.625,  0.75 ,  0.875,  1.041]), significance_level=array([ 15. ,  10. ,   5. ,   2.5,   1. ]))\n",
      "\n",
      "poisson on normal KstestResult(statistic=0.9674001019683699, pvalue=0.0)\n",
      "poisson on normal AndersonResult(statistic=1.4824896245294781, critical_values=array([ 0.545,  0.621,  0.745,  0.869,  1.034]), significance_level=array([ 15. ,  10. ,   5. ,   2.5,   1. ]))\n",
      "\n"
     ]
    }
   ],
   "source": [
    "df['ageM'].dropna(inplace = True)\n",
    "df['ageF'].dropna(inplace = True)\n",
    "\n",
    "list1 = df['ageM'].value_counts(ascending=False)\n",
    "y = list1.reshape(list1.size, 1)\n",
    "list2 = df['ageF'].value_counts(ascending=True)\n",
    "\n",
    "dist_M = np.random.poisson(list1)\n",
    "print (\"poisson on normal\", scipy.stats.kstest(dist_M,'norm'))\n",
    "print (\"poisson on normal\", scipy.stats.anderson(dist_M, dist='norm'))\n",
    "print (\"\")\n",
    "\n",
    "dist_W = np.random.poisson(list2)\n",
    "print (\"poisson on normal\", scipy.stats.kstest(dist_W,'norm'))\n",
    "print (\"poisson on normal\", scipy.stats.anderson(dist_W, dist='norm'))\n",
    "print (\"\")\n",
    "\n",
    "#H0: the data is normally distributed\n",
    "#Ha: the data is not normally distributed\n",
    "#aplha 0.05\n",
    "\n",
    "#For men riders: for KS test table cr=1.36. reject H0 if statistic > Cr.  that is 0.945<1.36. H0 is not rejected.\n",
    "#For AD test for aplha 0.05 the Cr=0.75. statistic=3.470 and if (3.470)^2>0.75 H0 is rejected.\n",
    "\n",
    "#For women riders: for KS test table cr=1.36. reject H0 if statistic > Cr.  that is 0.967<1.36. H0 is not rejected.\n",
    "#For AD test for aplha 0.05 the Cr=0.745. statistic=1.481 and if (1.481)^2>0.745 H0 is rejected. H0 is rejected."
   ]
  },
  {
   "cell_type": "code",
   "execution_count": 94,
   "metadata": {
    "collapsed": false
   },
   "outputs": [],
   "source": []
  },
  {
   "cell_type": "code",
   "execution_count": null,
   "metadata": {
    "collapsed": true
   },
   "outputs": [],
   "source": []
  }
 ],
 "metadata": {
  "kernelspec": {
   "display_name": "PUI2016_Python2",
   "language": "python",
   "name": "pui2016_python2"
  },
  "language_info": {
   "codemirror_mode": {
    "name": "ipython",
    "version": 2
   },
   "file_extension": ".py",
   "mimetype": "text/x-python",
   "name": "python",
   "nbconvert_exporter": "python",
   "pygments_lexer": "ipython2",
   "version": "2.7.12"
  }
 },
 "nbformat": 4,
 "nbformat_minor": 0
}
